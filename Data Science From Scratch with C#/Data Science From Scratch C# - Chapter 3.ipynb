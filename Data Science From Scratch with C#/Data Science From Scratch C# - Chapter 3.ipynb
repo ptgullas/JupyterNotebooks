{
 "cells": [
  {
   "cell_type": "markdown",
   "metadata": {},
   "source": [
    "# Data Science From Scratch, 2nd Edition\n",
    "## Chapter 3 - Visualizing Data\n",
    "OK, maybe this is where using C# will be an issue. Ah, apparently XPlot.Plotly is the suggested way to do plotting"
   ]
  },
  {
   "cell_type": "code",
   "execution_count": 1,
   "metadata": {},
   "outputs": [],
   "source": [
    "using XPlot.Plotly;"
   ]
  },
  {
   "cell_type": "code",
   "execution_count": 3,
   "metadata": {},
   "outputs": [
    {
     "data": {
      "text/html": [
       "<table><thead><tr><th><i>index</i></th><th>value</th></tr></thead><tbody><tr><td>0</td><td>1950</td></tr><tr><td>1</td><td>1960</td></tr><tr><td>2</td><td>1970</td></tr><tr><td>3</td><td>1980</td></tr><tr><td>4</td><td>1990</td></tr><tr><td>5</td><td>2000</td></tr><tr><td>6</td><td>2010</td></tr></tbody></table>"
      ]
     },
     "execution_count": 3,
     "metadata": {},
     "output_type": "execute_result"
    }
   ],
   "source": [
    "List<int> years = Enumerable.Range(1950, 61).Where(i => i % 10 == 0).ToList();\n",
    "years"
   ]
  },
  {
   "cell_type": "code",
   "execution_count": 5,
   "metadata": {},
   "outputs": [
    {
     "data": {
      "text/html": [
       "<table><thead><tr><th><i>index</i></th><th>value</th></tr></thead><tbody><tr><td>0</td><td>300.2</td></tr><tr><td>1</td><td>543.3</td></tr><tr><td>2</td><td>1075.9</td></tr><tr><td>3</td><td>2862.5</td></tr><tr><td>4</td><td>5979.6</td></tr><tr><td>5</td><td>10289.7</td></tr><tr><td>6</td><td>14958.3</td></tr></tbody></table>"
      ]
     },
     "execution_count": 5,
     "metadata": {},
     "output_type": "execute_result"
    }
   ],
   "source": [
    "List<double> gdp = new List<double>() {300.2, 543.3, 1075.9, 2862.5, 5979.6, 10289.7, 14958.3};\n",
    "gdp"
   ]
  },
  {
   "cell_type": "code",
   "execution_count": 13,
   "metadata": {},
   "outputs": [
    {
     "data": {
      "text/html": [
       "<div id=\"4a791505-accf-4331-861d-64ecccd26141\" style=\"width: 900px; height: 500px;\"></div>\r\n",
       "<script type=\"text/javascript\">\r\n",
       "\r\n",
       "var renderPlotly = function() {\r\n",
       "    var xplotRequire = requirejs.config({context:'xplot-3.0.1',paths:{plotly:'https://cdn.plot.ly/plotly-1.49.2.min'}});\r\n",
       "    xplotRequire(['plotly'], function(Plotly) {\r\n",
       "\n",
       "            var data = [{\"type\":\"scatter\",\"x\":[1950,1960,1970,1980,1990,2000,2010],\"y\":[300.2,543.3,1075.9,2862.5,5979.6,10289.7,14958.3],\"name\":\"Nominal GDP\"}];\n",
       "            var layout = \"\";\n",
       "            Plotly.newPlot('4a791505-accf-4331-861d-64ecccd26141', data, layout);\n",
       "        \r\n",
       "});\r\n",
       "};\r\n",
       "if ((typeof(requirejs) !==  typeof(Function)) || (typeof(requirejs.config) !== typeof(Function))) { \r\n",
       "    var script = document.createElement(\"script\"); \r\n",
       "    script.setAttribute(\"src\", \"https://cdnjs.cloudflare.com/ajax/libs/require.js/2.3.6/require.min.js\"); \r\n",
       "    script.onload = function(){\r\n",
       "        renderPlotly();\r\n",
       "    };\r\n",
       "    document.getElementsByTagName(\"head\")[0].appendChild(script); \r\n",
       "}\r\n",
       "else {\r\n",
       "    renderPlotly();\r\n",
       "}\r\n",
       "</script>\r\n"
      ]
     },
     "metadata": {},
     "output_type": "display_data"
    }
   ],
   "source": [
    "var gdpSeries = new Graph.Scatter() {\n",
    "    name = \"Nominal GDP\",\n",
    "    x = years,\n",
    "    y = gdp\n",
    "};\n",
    "var chart = Chart.Plot(new[] {gdpSeries});\n",
    "display(chart);"
   ]
  },
  {
   "cell_type": "code",
   "execution_count": null,
   "metadata": {},
   "outputs": [],
   "source": []
  }
 ],
 "metadata": {
  "kernelspec": {
   "display_name": ".NET (C#)",
   "language": "C#",
   "name": ".net-csharp"
  },
  "language_info": {
   "file_extension": ".cs",
   "mimetype": "text/x-csharp",
   "name": "C#",
   "pygments_lexer": "csharp",
   "version": "8.0"
  }
 },
 "nbformat": 4,
 "nbformat_minor": 4
}
