{
 "cells": [
  {
   "cell_type": "markdown",
   "metadata": {},
   "source": [
    "# Data Science From Scratch, 2nd Edition\n",
    "## Chapter 3 - Visualizing Data\n",
    "OK, maybe this is where using C# will be an issue. Ah, apparently XPlot.Plotly is the suggested way to do plotting"
   ]
  },
  {
   "cell_type": "code",
   "execution_count": 1,
   "metadata": {},
   "outputs": [],
   "source": [
    "using XPlot.Plotly;"
   ]
  },
  {
   "cell_type": "code",
   "execution_count": 3,
   "metadata": {},
   "outputs": [
    {
     "data": {
      "text/html": [
       "<table><thead><tr><th><i>index</i></th><th>value</th></tr></thead><tbody><tr><td>0</td><td>1950</td></tr><tr><td>1</td><td>1960</td></tr><tr><td>2</td><td>1970</td></tr><tr><td>3</td><td>1980</td></tr><tr><td>4</td><td>1990</td></tr><tr><td>5</td><td>2000</td></tr><tr><td>6</td><td>2010</td></tr></tbody></table>"
      ]
     },
     "execution_count": 3,
     "metadata": {},
     "output_type": "execute_result"
    }
   ],
   "source": [
    "List<int> years = Enumerable.Range(1950, 61).Where(i => i % 10 == 0).ToList();\n",
    "years"
   ]
  },
  {
   "cell_type": "code",
   "execution_count": 5,
   "metadata": {},
   "outputs": [
    {
     "data": {
      "text/html": [
       "<table><thead><tr><th><i>index</i></th><th>value</th></tr></thead><tbody><tr><td>0</td><td>300.2</td></tr><tr><td>1</td><td>543.3</td></tr><tr><td>2</td><td>1075.9</td></tr><tr><td>3</td><td>2862.5</td></tr><tr><td>4</td><td>5979.6</td></tr><tr><td>5</td><td>10289.7</td></tr><tr><td>6</td><td>14958.3</td></tr></tbody></table>"
      ]
     },
     "execution_count": 5,
     "metadata": {},
     "output_type": "execute_result"
    }
   ],
   "source": [
    "List<double> gdp = new List<double>() {300.2, 543.3, 1075.9, 2862.5, 5979.6, 10289.7, 14958.3};\n",
    "gdp"
   ]
  },
  {
   "cell_type": "code",
   "execution_count": 17,
   "metadata": {},
   "outputs": [
    {
     "data": {
      "text/html": [
       "<div id=\"980ddc89-c63a-4a8c-852e-5c1abbd92944\" style=\"width: 700px; height: 500px;\"></div>\r\n",
       "<script type=\"text/javascript\">\r\n",
       "\r\n",
       "var renderPlotly = function() {\r\n",
       "    var xplotRequire = requirejs.config({context:'xplot-3.0.1',paths:{plotly:'https://cdn.plot.ly/plotly-1.49.2.min'}});\r\n",
       "    xplotRequire(['plotly'], function(Plotly) {\r\n",
       "\n",
       "            var data = [{\"type\":\"scatter\",\"x\":[1950,1960,1970,1980,1990,2000,2010],\"y\":[300.2,543.3,1075.9,2862.5,5979.6,10289.7,14958.3],\"name\":\"Nominal GDP\"}];\n",
       "            var layout = {\"title\":\"Nominal GDP\",\"xaxis\":{\"title\":\"Years\",\"_isSubplotObj\":true},\"yaxis\":{\"title\":\"Billions of $\",\"_isSubplotObj\":true}};\n",
       "            Plotly.newPlot('980ddc89-c63a-4a8c-852e-5c1abbd92944', data, layout);\n",
       "        \r\n",
       "});\r\n",
       "};\r\n",
       "if ((typeof(requirejs) !==  typeof(Function)) || (typeof(requirejs.config) !== typeof(Function))) { \r\n",
       "    var script = document.createElement(\"script\"); \r\n",
       "    script.setAttribute(\"src\", \"https://cdnjs.cloudflare.com/ajax/libs/require.js/2.3.6/require.min.js\"); \r\n",
       "    script.onload = function(){\r\n",
       "        renderPlotly();\r\n",
       "    };\r\n",
       "    document.getElementsByTagName(\"head\")[0].appendChild(script); \r\n",
       "}\r\n",
       "else {\r\n",
       "    renderPlotly();\r\n",
       "}\r\n",
       "</script>\r\n"
      ]
     },
     "metadata": {},
     "output_type": "display_data"
    }
   ],
   "source": [
    "var gdpSeries = new Graph.Scatter() {\n",
    "    name = \"Nominal GDP\",\n",
    "    x = years,\n",
    "    y = gdp\n",
    "};\n",
    "var chart = Chart.Plot(new[] {gdpSeries});\n",
    "chart.WithTitle(gdpSeries.name);\n",
    "chart.WithWidth(700);\n",
    "chart.WithHeight(500);\n",
    "chart.WithXTitle(\"Years\");\n",
    "chart.WithYTitle(\"Billions of $\");\n",
    "display(chart);"
   ]
  },
  {
   "cell_type": "code",
   "execution_count": 31,
   "metadata": {},
   "outputs": [
    {
     "data": {
      "text/html": [
       "<div id=\"73a5899a-e712-4227-94ab-a699ef1110d7\" style=\"width: 700px; height: 500px;\"></div>\r\n",
       "<script type=\"text/javascript\">\r\n",
       "\r\n",
       "var renderPlotly = function() {\r\n",
       "    var xplotRequire = requirejs.config({context:'xplot-3.0.1',paths:{plotly:'https://cdn.plot.ly/plotly-1.49.2.min'}});\r\n",
       "    xplotRequire(['plotly'], function(Plotly) {\r\n",
       "\n",
       "            var data = [{\"type\":\"bar\",\"x\":[\"Annie Hall\",\"Ben-Hur\",\"Casablanca\",\"Gandhi\",\"West Side Story\"],\"y\":[5,11,3,8,10],\"marker\":{\"color\":[\"0ed145\",\"c4ff0e\",\"fff200\",\"fdeca6\",\"ffca18\"]}}];\n",
       "            var layout = {\"title\":\"My Favorite Movies\"};\n",
       "            Plotly.newPlot('73a5899a-e712-4227-94ab-a699ef1110d7', data, layout);\n",
       "        \r\n",
       "});\r\n",
       "};\r\n",
       "if ((typeof(requirejs) !==  typeof(Function)) || (typeof(requirejs.config) !== typeof(Function))) { \r\n",
       "    var script = document.createElement(\"script\"); \r\n",
       "    script.setAttribute(\"src\", \"https://cdnjs.cloudflare.com/ajax/libs/require.js/2.3.6/require.min.js\"); \r\n",
       "    script.onload = function(){\r\n",
       "        renderPlotly();\r\n",
       "    };\r\n",
       "    document.getElementsByTagName(\"head\")[0].appendChild(script); \r\n",
       "}\r\n",
       "else {\r\n",
       "    renderPlotly();\r\n",
       "}\r\n",
       "</script>\r\n"
      ]
     },
     "metadata": {},
     "output_type": "display_data"
    }
   ],
   "source": [
    "var movies = new List<string>() {\"Annie Hall\", \"Ben-Hur\", \"Casablanca\", \"Gandhi\", \"West Side Story\"};\n",
    "var numOscars = new List<int>() {5, 11, 3, 8, 10};\n",
    "\n",
    "// let's jazz it up with custom colors\n",
    "var colors = new List<string>() {\"0ed145\", \"c4ff0e\", \"fff200\", \"fdeca6\", \"ffca18\"};\n",
    "var barSeries = new Graph.Bar() {\n",
    "    x = movies,\n",
    "    y = numOscars,\n",
    "    marker = new Graph.Marker() {color = colors}\n",
    "};\n",
    "var movieChart = Chart.Plot(new[] {barSeries});\n",
    "movieChart.WithTitle(\"My Favorite Movies\");\n",
    "movieChart.WithWidth(700);\n",
    "movieChart.WithHeight(500);\n",
    "display(movieChart);"
   ]
  },
  {
   "cell_type": "code",
   "execution_count": 32,
   "metadata": {},
   "outputs": [
    {
     "ename": "Unhandled exception",
     "evalue": "(11,75): error CS1002: ; expected",
     "output_type": "error",
     "traceback": [
      "(11,75): error CS1002: ; expected"
     ]
    }
   ],
   "source": [
    "// Fancier version with classes\n",
    "public class Film {\n",
    "    public string Title {get; set;}\n",
    "    public int Year {get; set;}\n",
    "}\n",
    "\n",
    "Film annie = new Film() {Title = \"Annie Hall\", Year = 1977};\n",
    "Film benHur = new Film() {Title = \"Ben-Hur\", Year = 1959};\n",
    "Film casablanca = new Film() {Title = \"Casablanca\", Year = 1942};\n",
    "film gandhi = new Film() {Title = \"Gandhi\", Year = 1982};\n",
    "film westsideStory = new Film() {Title = \"West Side Story\", Year = \"1961\"};\n",
    "\n",
    "// eh, forget it"
   ]
  },
  {
   "cell_type": "markdown",
   "metadata": {},
   "source": [
    "### Using IGrouping/Dictionary to replace Counter"
   ]
  },
  {
   "cell_type": "code",
   "execution_count": 40,
   "metadata": {},
   "outputs": [
    {
     "data": {
      "text/html": [
       "<table><thead><tr><th><i>key</i></th><th>value</th></tr></thead><tbody><tr><td>80</td><td>4</td></tr><tr><td>90</td><td>3</td></tr><tr><td>70</td><td>3</td></tr><tr><td>0</td><td>2</td></tr><tr><td>60</td><td>1</td></tr></tbody></table>"
      ]
     },
     "execution_count": 40,
     "metadata": {},
     "output_type": "execute_result"
    }
   ],
   "source": [
    "We want to replicate this:\n",
    "// # Bucket grades by decile, but put 100 in with the 90s\n",
    "// histogram = Counter(min(grade // 10 * 10, 90) for grade in grades)\n",
    "// the // is floor division\n",
    "\n",
    "// Using bar chart to show bucketed grades by decile\n",
    "List<int> grades = new List<int>() {83, 95, 91, 87, 70, 0, 85, 82, 100, 67, 73, 77, 0};\n",
    "\n",
    "\n",
    "// can use IGrouping as an intermediate step\n",
    "var gradeGroups = grades.GroupBy(g => Math.Min(((g / 10) * 10),90));\n",
    "Dictionary<int, int> gradeCounter = gradeGroups.ToDictionary(g => g.Key, g => g.ToList().Count);\n",
    "\n",
    "// or make a Dictionary in one go:\n",
    "Dictionary<int,int> gradeCounter2 = grades.GroupBy(g => Math.Min(((g / 10) * 10), 90))\n",
    "    .ToDictionary(g => g.Key, g => g.ToList().Count);\n",
    "gradeCounter2"
   ]
  },
  {
   "cell_type": "code",
   "execution_count": 64,
   "metadata": {},
   "outputs": [
    {
     "data": {
      "text/html": [
       "<div id=\"9d2ace39-e14b-4ab5-9614-95b90c932e31\" style=\"width: 700px; height: 500px;\"></div>\r\n",
       "<script type=\"text/javascript\">\r\n",
       "\r\n",
       "var renderPlotly = function() {\r\n",
       "    var xplotRequire = requirejs.config({context:'xplot-3.0.1',paths:{plotly:'https://cdn.plot.ly/plotly-1.49.2.min'}});\r\n",
       "    xplotRequire(['plotly'], function(Plotly) {\r\n",
       "\n",
       "            var data = [{\"type\":\"bar\",\"x\":[80,90,70,0,60],\"y\":[4,3,3,2,1]}];\n",
       "            var layout = {\"title\":\"Distribution of Exam 1 Grades\",\"xaxis\":{\"title\":\"Decile\",\"_isSubplotObj\":true},\"yaxis\":{\"title\":\"# of Students\",\"_isSubplotObj\":true}};\n",
       "            Plotly.newPlot('9d2ace39-e14b-4ab5-9614-95b90c932e31', data, layout);\n",
       "        \r\n",
       "});\r\n",
       "};\r\n",
       "if ((typeof(requirejs) !==  typeof(Function)) || (typeof(requirejs.config) !== typeof(Function))) { \r\n",
       "    var script = document.createElement(\"script\"); \r\n",
       "    script.setAttribute(\"src\", \"https://cdnjs.cloudflare.com/ajax/libs/require.js/2.3.6/require.min.js\"); \r\n",
       "    script.onload = function(){\r\n",
       "        renderPlotly();\r\n",
       "    };\r\n",
       "    document.getElementsByTagName(\"head\")[0].appendChild(script); \r\n",
       "}\r\n",
       "else {\r\n",
       "    renderPlotly();\r\n",
       "}\r\n",
       "</script>\r\n"
      ]
     },
     "metadata": {},
     "output_type": "display_data"
    }
   ],
   "source": [
    "/*\n",
    "Still trying to replicate this exactly with XPlot.Plotly:\n",
    "\n",
    "plt.bar([x + 5 for x in histogram.keys()],  # Shift bars right by 5\n",
    "        histogram.values(),                 # Give each bar its correct height\n",
    "        10,                                 # Give each bar a width of 10\n",
    "        edgecolor=(0, 0, 0))                # Black edges for each bar\n",
    "\n",
    "plt.axis([-5, 105, 0, 5])                  # x-axis from -5 to 105,\n",
    "                                           # y-axis from 0 to 5\n",
    "\n",
    "plt.xticks([10 * i for i in range(11)])    # x-axis labels at 0, 10, ..., 100\n",
    "plt.xlabel(\"Decile\")\n",
    "plt.ylabel(\"# of Students\")\n",
    "plt.title(\"Distribution of Exam 1 Grades\")\n",
    "plt.show()\n",
    "*/\n",
    "\n",
    "var layout = new Layout.Layout();\n",
    "layout.title = \"Distribution of Exam 1 Grades\";\n",
    "//layout.width = 10;\n",
    "\n",
    "var gradeSeries = new Graph.Bar() {\n",
    "    x = gradeCounter2.Keys,\n",
    "    y = gradeCounter2.Values,\n",
    "};\n",
    "var gradeChart = Chart.Plot(new[] {gradeSeries});\n",
    "// gradeChart.WithTitle(\"Distribution of Exam 1 Grades\");\n",
    "gradeChart.WithLayout(layout);\n",
    "gradeChart.WithWidth(700);\n",
    "gradeChart.WithHeight(500);\n",
    "gradeChart.WithXTitle(\"Decile\");\n",
    "gradeChart.WithYTitle(\"# of Students\");\n",
    "display(gradeChart)\n"
   ]
  },
  {
   "cell_type": "code",
   "execution_count": null,
   "metadata": {},
   "outputs": [],
   "source": []
  }
 ],
 "metadata": {
  "kernelspec": {
   "display_name": ".NET (C#)",
   "language": "C#",
   "name": ".net-csharp"
  },
  "language_info": {
   "file_extension": ".cs",
   "mimetype": "text/x-csharp",
   "name": "C#",
   "pygments_lexer": "csharp",
   "version": "8.0"
  }
 },
 "nbformat": 4,
 "nbformat_minor": 4
}
