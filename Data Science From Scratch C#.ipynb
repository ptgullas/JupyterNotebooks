{
 "cells": [
  {
   "cell_type": "markdown",
   "metadata": {},
   "source": [
    "# Data Science From Scratch, 2nd Edition\n",
    "## (But using C# instead of Python)\n",
    "I decided that it might be fun to try to go through this book, but using C# for the exercises instead of Python"
   ]
  },
  {
   "cell_type": "markdown",
   "metadata": {},
   "source": [
    "# Chapter 2: A Crash Course in Python"
   ]
  },
  {
   "cell_type": "markdown",
   "metadata": {},
   "source": [
    "## Lists\n",
    "Just use Lists for homogeneous lists. ArrayLists for heterogeneous lists."
   ]
  },
  {
   "cell_type": "code",
   "execution_count": 23,
   "metadata": {},
   "outputs": [
    {
     "data": {
      "text/html": [
       "<table><thead><tr><th><i>index</i></th><th>value</th></tr></thead><tbody><tr><td>0</td><td>string</td></tr><tr><td>1</td><td>0.1</td></tr><tr><td>2</td><td>23</td></tr><tr><td>3</td><td>False</td></tr><tr><td>4</td><td>True</td></tr></tbody></table>"
      ]
     },
     "execution_count": 23,
     "metadata": {},
     "output_type": "execute_result"
    }
   ],
   "source": [
    "ArrayList heterogeneousList = new ArrayList() {\"string\", 0.1, 23, false };\n",
    "bool myBool = true;\n",
    "heterogeneousList.Add(myBool);\n",
    "heterogeneousList"
   ]
  },
  {
   "cell_type": "code",
   "execution_count": 24,
   "metadata": {},
   "outputs": [
    {
     "data": {
      "text/html": [
       "<table><thead><tr><th><i>index</i></th><th>value</th></tr></thead><tbody><tr><td>0</td><td>8</td></tr><tr><td>1</td><td>19</td></tr><tr><td>2</td><td>45</td></tr><tr><td>3</td><td>225</td></tr></tbody></table>"
      ]
     },
     "execution_count": 24,
     "metadata": {},
     "output_type": "execute_result"
    }
   ],
   "source": [
    "List<int> listOfInts = new List<int>() {8, 19, 45, 225};\n",
    "listOfInts"
   ]
  },
  {
   "cell_type": "code",
   "execution_count": 25,
   "metadata": {},
   "outputs": [
    {
     "data": {
      "text/html": [
       "<table><thead><tr><th><i>index</i></th><th>Capacity</th><th>Count</th></tr></thead><tbody><tr><td>0</td><td>4</td><td>4</td></tr><tr><td>1</td><td>8</td><td>5</td><td>False</td><td>False</td><td>False</td><td>[ string, 0.1, 23, False, True ]</td></tr></tbody></table>"
      ]
     },
     "execution_count": 25,
     "metadata": {},
     "output_type": "execute_result"
    }
   ],
   "source": [
    "ArrayList listOfLists = new ArrayList() {listOfInts, heterogeneousList};\n",
    "listOfLists"
   ]
  },
  {
   "cell_type": "code",
   "execution_count": 26,
   "metadata": {},
   "outputs": [
    {
     "ename": "Unhandled exception",
     "evalue": "(1,13): error CS1061: 'ArrayList' does not contain a definition for 'Info' and no accessible extension method 'Info' accepting a first argument of type 'ArrayList' could be found (are you missing a using directive or an assembly reference?)",
     "output_type": "error",
     "traceback": [
      "(1,13): error CS1061: 'ArrayList' does not contain a definition for 'Info' and no accessible extension method 'Info' accepting a first argument of type 'ArrayList' could be found (are you missing a using directive or an assembly reference?)"
     ]
    }
   ],
   "source": [
    "listOfLists.Info();\n"
   ]
  },
  {
   "cell_type": "code",
   "execution_count": 31,
   "metadata": {},
   "outputs": [
    {
     "data": {
      "text/html": [
       "<table><thead><tr><th><i>index</i></th><th>value</th></tr></thead><tbody><tr><td>0</td><td>8</td></tr><tr><td>1</td><td>19</td></tr><tr><td>2</td><td>45</td></tr><tr><td>3</td><td>23</td></tr></tbody></table>"
      ]
     },
     "execution_count": 31,
     "metadata": {},
     "output_type": "execute_result"
    }
   ],
   "source": [
    "int eight = listOfInts[0];\n",
    "int nineteen = listOfInts[1];\n",
    "int fortyFive = listOfInts[2];\n",
    "int twentyThree = 23;\n",
    "listOfInts[3] = twentyThree;\n",
    "int last = listOfInts.Last();\n",
    "listOfInts"
   ]
  },
  {
   "cell_type": "code",
   "execution_count": 32,
   "metadata": {},
   "outputs": [
    {
     "data": {
      "text/html": [
       "23"
      ]
     },
     "execution_count": 32,
     "metadata": {},
     "output_type": "execute_result"
    }
   ],
   "source": [
    "last"
   ]
  },
  {
   "cell_type": "code",
   "execution_count": 33,
   "metadata": {},
   "outputs": [
    {
     "data": {
      "text/html": [
       "45"
      ]
     },
     "execution_count": 33,
     "metadata": {},
     "output_type": "execute_result"
    }
   ],
   "source": [
    "int secondToLast = listOfInts[listOfInts.Count() - 2];\n",
    "secondToLast"
   ]
  },
  {
   "cell_type": "markdown",
   "metadata": {},
   "source": [
    "### \"Slicing\" Lists\n",
    "Instead of using Python slicing, we can use C# & LINQ methods"
   ]
  },
  {
   "cell_type": "code",
   "execution_count": 35,
   "metadata": {},
   "outputs": [
    {
     "data": {
      "text/html": [
       "<table><thead><tr><th><i>index</i></th><th>value</th></tr></thead><tbody><tr><td>0</td><td>1</td></tr><tr><td>1</td><td>2</td></tr><tr><td>2</td><td>3</td></tr><tr><td>3</td><td>4</td></tr><tr><td>4</td><td>5</td></tr><tr><td>5</td><td>6</td></tr><tr><td>6</td><td>7</td></tr><tr><td>7</td><td>8</td></tr><tr><td>8</td><td>9</td></tr><tr><td>9</td><td>10</td></tr><tr><td>10</td><td>11</td></tr><tr><td>11</td><td>12</td></tr><tr><td>12</td><td>13</td></tr><tr><td>13</td><td>14</td></tr><tr><td>14</td><td>15</td></tr><tr><td>15</td><td>16</td></tr><tr><td>16</td><td>17</td></tr><tr><td>17</td><td>18</td></tr><tr><td>18</td><td>19</td></tr><tr><td>19</td><td>20</td></tr><tr><td colspan=\"2\">(80 more)</td></tr></tbody></table>"
      ]
     },
     "execution_count": 35,
     "metadata": {},
     "output_type": "execute_result"
    }
   ],
   "source": [
    "// generate a list of ints from 1-100\n",
    "List<int> hundredList = new List<int>();\n",
    "for (int i = 1; i <= 100; i++) {\n",
    "    hundredList.Add(i);\n",
    "}\n",
    "hundredList"
   ]
  },
  {
   "cell_type": "code",
   "execution_count": 54,
   "metadata": {},
   "outputs": [
    {
     "data": {
      "text/html": [
       "<table><thead><tr><th><i>index</i></th><th>value</th></tr></thead><tbody><tr><td>0</td><td>1</td></tr><tr><td>1</td><td>2</td></tr><tr><td>2</td><td>3</td></tr><tr><td>3</td><td>4</td></tr><tr><td>4</td><td>5</td></tr></tbody></table>"
      ]
     },
     "execution_count": 54,
     "metadata": {},
     "output_type": "execute_result"
    }
   ],
   "source": [
    "// Use LINQ Take() method to get the first x\n",
    "var firstFive = hundredList.Take(5);\n",
    "firstFive"
   ]
  },
  {
   "cell_type": "code",
   "execution_count": 56,
   "metadata": {},
   "outputs": [
    {
     "data": {
      "text/html": [
       "<table><thead><tr><th><i>index</i></th><th>value</th></tr></thead><tbody><tr><td>0</td><td>100</td></tr><tr><td>1</td><td>99</td></tr><tr><td>2</td><td>98</td></tr><tr><td>3</td><td>97</td></tr><tr><td>4</td><td>96</td></tr></tbody></table>"
      ]
     },
     "execution_count": 56,
     "metadata": {},
     "output_type": "execute_result"
    }
   ],
   "source": [
    "// Use OrderByDescending and Take to get the last x\n",
    "var lastFive = hundredList.OrderByDescending(i => i).Take(5);\n",
    "lastFive"
   ]
  },
  {
   "cell_type": "code",
   "execution_count": 59,
   "metadata": {},
   "outputs": [
    {
     "data": {
      "text/html": [
       "<table><thead><tr><th><i>index</i></th><th>value</th></tr></thead><tbody><tr><td>0</td><td>10</td></tr><tr><td>1</td><td>11</td></tr><tr><td>2</td><td>12</td></tr><tr><td>3</td><td>13</td></tr><tr><td>4</td><td>14</td></tr><tr><td>5</td><td>15</td></tr><tr><td>6</td><td>16</td></tr><tr><td>7</td><td>17</td></tr><tr><td>8</td><td>18</td></tr><tr><td>9</td><td>19</td></tr><tr><td>10</td><td>20</td></tr></tbody></table>"
      ]
     },
     "execution_count": 59,
     "metadata": {},
     "output_type": "execute_result"
    }
   ],
   "source": [
    "// start with 9th index, get the 11 elements after that\n",
    "var tenToTwenty = hundredList.GetRange(9,11);\n",
    "tenToTwenty"
   ]
  },
  {
   "cell_type": "code",
   "execution_count": 46,
   "metadata": {},
   "outputs": [
    {
     "data": {
      "text/plain": [
       "threeToEnd Count = 98"
      ]
     },
     "metadata": {},
     "output_type": "display_data"
    }
   ],
   "source": [
    "var threeToEnd = hundredList.Skip(2);\n",
    "display($\"threeToEnd Count = {threeToEnd.Count()}\");"
   ]
  },
  {
   "cell_type": "markdown",
   "metadata": {},
   "source": [
    "### Replacing Python ***in*** with C# ***contains***"
   ]
  },
  {
   "cell_type": "code",
   "execution_count": 52,
   "metadata": {},
   "outputs": [
    {
     "data": {
      "text/html": [
       "True"
      ]
     },
     "metadata": {},
     "output_type": "display_data"
    },
    {
     "data": {
      "text/html": [
       "False"
      ]
     },
     "metadata": {},
     "output_type": "display_data"
    }
   ],
   "source": [
    "// check to see if list contains element\n",
    "var containsNum = hundredList.Contains(5);\n",
    "display(containsNum);\n",
    "\n",
    "var containsBigNum = hundredList.Contains(400);\n",
    "display(containsBigNum);"
   ]
  },
  {
   "cell_type": "code",
   "execution_count": null,
   "metadata": {},
   "outputs": [],
   "source": [
    "// how to replace the Python stride thing (3rd argument in a slice, e.g.,\n",
    "// five_to_three = x[5:2:-1] )\n",
    "// Maybe with some kind of for loop"
   ]
  },
  {
   "cell_type": "markdown",
   "metadata": {},
   "source": [
    "### Concatenate Lists"
   ]
  },
  {
   "cell_type": "code",
   "execution_count": 63,
   "metadata": {},
   "outputs": [
    {
     "ename": "Unhandled exception",
     "evalue": "(3,21): error CS1503: Argument 1: cannot convert from 'System.Collections.Generic.List<int>' to 'int'\r\n(3,1): error CS0670: Field cannot have void type",
     "output_type": "error",
     "traceback": [
      "(3,21): error CS1503: Argument 1: cannot convert from 'System.Collections.Generic.List<int>' to 'int'\r\n(3,1): error CS0670: Field cannot have void type"
     ]
    }
   ],
   "source": [
    "List<int> intList = new List<int>() {1,2,3};\n",
    "List<int> secondList = new List<int>() {4,5,6};\n",
    "var x = intList.Add(secondList);"
   ]
  },
  {
   "cell_type": "markdown",
   "metadata": {},
   "source": [
    "## Tuples"
   ]
  },
  {
   "cell_type": "code",
   "execution_count": 66,
   "metadata": {},
   "outputs": [
    {
     "data": {
      "text/html": [
       "<table><thead><tr><th>Item1</th><th>Item2</th></tr></thead><tbody><tr><td>1</td><td>2</td></tr></tbody></table>"
      ]
     },
     "execution_count": 66,
     "metadata": {},
     "output_type": "execute_result"
    }
   ],
   "source": [
    "var myTuple = (1,2);\n",
    "myTuple"
   ]
  },
  {
   "cell_type": "code",
   "execution_count": 67,
   "metadata": {},
   "outputs": [
    {
     "data": {
      "text/html": [
       "<table><thead><tr><th>Item1</th><th>Item2</th></tr></thead><tbody><tr><td>3</td><td>4</td></tr></tbody></table>"
      ]
     },
     "execution_count": 67,
     "metadata": {},
     "output_type": "execute_result"
    }
   ],
   "source": [
    "var otherTuple = (3,4);\n",
    "otherTuple"
   ]
  },
  {
   "cell_type": "code",
   "execution_count": 69,
   "metadata": {},
   "outputs": [
    {
     "data": {
      "text/html": [
       "<table><thead><tr><th>Item1</th><th>Item2</th></tr></thead><tbody><tr><td>3</td><td>4</td></tr></tbody></table>"
      ]
     },
     "execution_count": 69,
     "metadata": {},
     "output_type": "execute_result"
    }
   ],
   "source": [
    "var namedTuple = (first: 3, second: 4);\n",
    "namedTuple"
   ]
  },
  {
   "cell_type": "code",
   "execution_count": 70,
   "metadata": {},
   "outputs": [
    {
     "data": {
      "text/html": [
       "<table><thead><tr><th>Item1</th><th>Item2</th></tr></thead><tbody><tr><td>12.5</td><td>5</td></tr></tbody></table>"
      ]
     },
     "execution_count": 70,
     "metadata": {},
     "output_type": "execute_result"
    }
   ],
   "source": [
    "var sum = 12.5;\n",
    "var count = 5;\n",
    "var accumulation = (sum, count);\n",
    "accumulation"
   ]
  },
  {
   "cell_type": "code",
   "execution_count": 72,
   "metadata": {},
   "outputs": [
    {
     "data": {
      "text/html": [
       "12.5"
      ]
     },
     "execution_count": 72,
     "metadata": {},
     "output_type": "execute_result"
    }
   ],
   "source": [
    "accumulation.sum"
   ]
  },
  {
   "cell_type": "code",
   "execution_count": null,
   "metadata": {},
   "outputs": [],
   "source": []
  }
 ],
 "metadata": {
  "kernelspec": {
   "display_name": ".NET (C#)",
   "language": "C#",
   "name": ".net-csharp"
  },
  "language_info": {
   "file_extension": ".cs",
   "mimetype": "text/x-csharp",
   "name": "C#",
   "pygments_lexer": "csharp",
   "version": "8.0"
  }
 },
 "nbformat": 4,
 "nbformat_minor": 4
}
