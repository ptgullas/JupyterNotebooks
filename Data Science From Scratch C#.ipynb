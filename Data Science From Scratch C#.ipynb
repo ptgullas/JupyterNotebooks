{
 "cells": [
  {
   "cell_type": "markdown",
   "metadata": {},
   "source": [
    "# Data Science From Scratch, 2nd Edition\n",
    "## (But using C# instead of Python)\n",
    "I decided that it might be fun to try to go through this book, but using C# for the exercises instead of Python"
   ]
  },
  {
   "cell_type": "markdown",
   "metadata": {},
   "source": [
    "# Chapter 2: A Crash Course in Python\n",
    "This chapter is mostly about Python features & data structures. I'll try to highlight some C# equivalents."
   ]
  },
  {
   "cell_type": "markdown",
   "metadata": {},
   "source": [
    "## Lists\n",
    "Just use Lists for homogeneous lists. ArrayLists for heterogeneous lists."
   ]
  },
  {
   "cell_type": "code",
   "execution_count": 23,
   "metadata": {},
   "outputs": [
    {
     "data": {
      "text/html": [
       "<table><thead><tr><th><i>index</i></th><th>value</th></tr></thead><tbody><tr><td>0</td><td>string</td></tr><tr><td>1</td><td>0.1</td></tr><tr><td>2</td><td>23</td></tr><tr><td>3</td><td>False</td></tr><tr><td>4</td><td>True</td></tr></tbody></table>"
      ]
     },
     "execution_count": 23,
     "metadata": {},
     "output_type": "execute_result"
    }
   ],
   "source": [
    "ArrayList heterogeneousList = new ArrayList() {\"string\", 0.1, 23, false };\n",
    "bool myBool = true;\n",
    "heterogeneousList.Add(myBool);\n",
    "heterogeneousList"
   ]
  },
  {
   "cell_type": "code",
   "execution_count": 24,
   "metadata": {},
   "outputs": [
    {
     "data": {
      "text/html": [
       "<table><thead><tr><th><i>index</i></th><th>value</th></tr></thead><tbody><tr><td>0</td><td>8</td></tr><tr><td>1</td><td>19</td></tr><tr><td>2</td><td>45</td></tr><tr><td>3</td><td>225</td></tr></tbody></table>"
      ]
     },
     "execution_count": 24,
     "metadata": {},
     "output_type": "execute_result"
    }
   ],
   "source": [
    "List<int> listOfInts = new List<int>() {8, 19, 45, 225};\n",
    "listOfInts"
   ]
  },
  {
   "cell_type": "code",
   "execution_count": 25,
   "metadata": {},
   "outputs": [
    {
     "data": {
      "text/html": [
       "<table><thead><tr><th><i>index</i></th><th>Capacity</th><th>Count</th></tr></thead><tbody><tr><td>0</td><td>4</td><td>4</td></tr><tr><td>1</td><td>8</td><td>5</td><td>False</td><td>False</td><td>False</td><td>[ string, 0.1, 23, False, True ]</td></tr></tbody></table>"
      ]
     },
     "execution_count": 25,
     "metadata": {},
     "output_type": "execute_result"
    }
   ],
   "source": [
    "ArrayList listOfLists = new ArrayList() {listOfInts, heterogeneousList};\n",
    "listOfLists"
   ]
  },
  {
   "cell_type": "code",
   "execution_count": 26,
   "metadata": {},
   "outputs": [
    {
     "ename": "Unhandled exception",
     "evalue": "(1,13): error CS1061: 'ArrayList' does not contain a definition for 'Info' and no accessible extension method 'Info' accepting a first argument of type 'ArrayList' could be found (are you missing a using directive or an assembly reference?)",
     "output_type": "error",
     "traceback": [
      "(1,13): error CS1061: 'ArrayList' does not contain a definition for 'Info' and no accessible extension method 'Info' accepting a first argument of type 'ArrayList' could be found (are you missing a using directive or an assembly reference?)"
     ]
    }
   ],
   "source": [
    "listOfLists.Info();\n"
   ]
  },
  {
   "cell_type": "code",
   "execution_count": 31,
   "metadata": {},
   "outputs": [
    {
     "data": {
      "text/html": [
       "<table><thead><tr><th><i>index</i></th><th>value</th></tr></thead><tbody><tr><td>0</td><td>8</td></tr><tr><td>1</td><td>19</td></tr><tr><td>2</td><td>45</td></tr><tr><td>3</td><td>23</td></tr></tbody></table>"
      ]
     },
     "execution_count": 31,
     "metadata": {},
     "output_type": "execute_result"
    }
   ],
   "source": [
    "int eight = listOfInts[0];\n",
    "int nineteen = listOfInts[1];\n",
    "int fortyFive = listOfInts[2];\n",
    "int twentyThree = 23;\n",
    "listOfInts[3] = twentyThree;\n",
    "int last = listOfInts.Last();\n",
    "listOfInts"
   ]
  },
  {
   "cell_type": "code",
   "execution_count": 32,
   "metadata": {},
   "outputs": [
    {
     "data": {
      "text/html": [
       "23"
      ]
     },
     "execution_count": 32,
     "metadata": {},
     "output_type": "execute_result"
    }
   ],
   "source": [
    "last"
   ]
  },
  {
   "cell_type": "code",
   "execution_count": 33,
   "metadata": {},
   "outputs": [
    {
     "data": {
      "text/html": [
       "45"
      ]
     },
     "execution_count": 33,
     "metadata": {},
     "output_type": "execute_result"
    }
   ],
   "source": [
    "int secondToLast = listOfInts[listOfInts.Count() - 2];\n",
    "secondToLast"
   ]
  },
  {
   "cell_type": "markdown",
   "metadata": {},
   "source": [
    "### \"Slicing\" Lists\n",
    "Instead of using Python slicing, we can use C# & LINQ methods.\n",
    "Use **Enumerable.Range()**, similar to Python's Range"
   ]
  },
  {
   "cell_type": "code",
   "execution_count": 127,
   "metadata": {},
   "outputs": [
    {
     "data": {
      "text/html": [
       "<table><thead><tr><th><i>index</i></th><th>value</th></tr></thead><tbody><tr><td>0</td><td>1</td></tr><tr><td>1</td><td>2</td></tr><tr><td>2</td><td>3</td></tr><tr><td>3</td><td>4</td></tr><tr><td>4</td><td>5</td></tr><tr><td>5</td><td>6</td></tr><tr><td>6</td><td>7</td></tr><tr><td>7</td><td>8</td></tr><tr><td>8</td><td>9</td></tr><tr><td>9</td><td>10</td></tr><tr><td>10</td><td>11</td></tr><tr><td>11</td><td>12</td></tr><tr><td>12</td><td>13</td></tr><tr><td>13</td><td>14</td></tr><tr><td>14</td><td>15</td></tr><tr><td>15</td><td>16</td></tr><tr><td>16</td><td>17</td></tr><tr><td>17</td><td>18</td></tr><tr><td>18</td><td>19</td></tr><tr><td>19</td><td>20</td></tr><tr><td colspan=\"2\">(more...)</td></tr></tbody></table>"
      ]
     },
     "execution_count": 127,
     "metadata": {},
     "output_type": "execute_result"
    }
   ],
   "source": [
    "// generate a list of ints from 1-100\n",
    "/*\n",
    "List<int> hundredList = new List<int>();\n",
    "for (int i = 1; i <= 100; i++) {\n",
    "    hundredList.Add(i);\n",
    "}\n",
    "*/\n",
    "\n",
    "// As an alternative, we can use Range to build the list\n",
    "var hundredList = Enumerable.Range(1, 100);\n",
    "hundredList"
   ]
  },
  {
   "cell_type": "code",
   "execution_count": 128,
   "metadata": {},
   "outputs": [
    {
     "data": {
      "text/html": [
       "<table><thead><tr><th><i>index</i></th><th>value</th></tr></thead><tbody><tr><td>0</td><td>1</td></tr><tr><td>1</td><td>2</td></tr><tr><td>2</td><td>3</td></tr><tr><td>3</td><td>4</td></tr><tr><td>4</td><td>5</td></tr></tbody></table>"
      ]
     },
     "execution_count": 128,
     "metadata": {},
     "output_type": "execute_result"
    }
   ],
   "source": [
    "// Use LINQ Take() method to get the first x\n",
    "var firstFive = hundredList.Take(5);\n",
    "firstFive"
   ]
  },
  {
   "cell_type": "code",
   "execution_count": 56,
   "metadata": {},
   "outputs": [
    {
     "data": {
      "text/html": [
       "<table><thead><tr><th><i>index</i></th><th>value</th></tr></thead><tbody><tr><td>0</td><td>100</td></tr><tr><td>1</td><td>99</td></tr><tr><td>2</td><td>98</td></tr><tr><td>3</td><td>97</td></tr><tr><td>4</td><td>96</td></tr></tbody></table>"
      ]
     },
     "execution_count": 56,
     "metadata": {},
     "output_type": "execute_result"
    }
   ],
   "source": [
    "// Use OrderByDescending and Take to get the last x\n",
    "var lastFive = hundredList.OrderByDescending(i => i).Take(5);\n",
    "lastFive"
   ]
  },
  {
   "cell_type": "code",
   "execution_count": 59,
   "metadata": {},
   "outputs": [
    {
     "data": {
      "text/html": [
       "<table><thead><tr><th><i>index</i></th><th>value</th></tr></thead><tbody><tr><td>0</td><td>10</td></tr><tr><td>1</td><td>11</td></tr><tr><td>2</td><td>12</td></tr><tr><td>3</td><td>13</td></tr><tr><td>4</td><td>14</td></tr><tr><td>5</td><td>15</td></tr><tr><td>6</td><td>16</td></tr><tr><td>7</td><td>17</td></tr><tr><td>8</td><td>18</td></tr><tr><td>9</td><td>19</td></tr><tr><td>10</td><td>20</td></tr></tbody></table>"
      ]
     },
     "execution_count": 59,
     "metadata": {},
     "output_type": "execute_result"
    }
   ],
   "source": [
    "// start with 9th index, get the 11 elements after that\n",
    "var tenToTwenty = hundredList.GetRange(9,11);\n",
    "tenToTwenty"
   ]
  },
  {
   "cell_type": "code",
   "execution_count": 46,
   "metadata": {},
   "outputs": [
    {
     "data": {
      "text/plain": [
       "threeToEnd Count = 98"
      ]
     },
     "metadata": {},
     "output_type": "display_data"
    }
   ],
   "source": [
    "var threeToEnd = hundredList.Skip(2);\n",
    "display($\"threeToEnd Count = {threeToEnd.Count()}\");"
   ]
  },
  {
   "cell_type": "markdown",
   "metadata": {},
   "source": [
    "### Replacing Python ***in*** with C# ***contains***"
   ]
  },
  {
   "cell_type": "code",
   "execution_count": 52,
   "metadata": {},
   "outputs": [
    {
     "data": {
      "text/html": [
       "True"
      ]
     },
     "metadata": {},
     "output_type": "display_data"
    },
    {
     "data": {
      "text/html": [
       "False"
      ]
     },
     "metadata": {},
     "output_type": "display_data"
    }
   ],
   "source": [
    "// check to see if list contains element\n",
    "var containsNum = hundredList.Contains(5);\n",
    "display(containsNum);\n",
    "\n",
    "var containsBigNum = hundredList.Contains(400);\n",
    "display(containsBigNum);"
   ]
  },
  {
   "cell_type": "code",
   "execution_count": null,
   "metadata": {},
   "outputs": [],
   "source": [
    "// how to replace the Python stride thing (3rd argument in a slice, e.g.,\n",
    "// five_to_three = x[5:2:-1] )\n",
    "// Maybe with some kind of for loop"
   ]
  },
  {
   "cell_type": "markdown",
   "metadata": {},
   "source": [
    "### Concatenate Lists"
   ]
  },
  {
   "cell_type": "code",
   "execution_count": 63,
   "metadata": {},
   "outputs": [
    {
     "ename": "Unhandled exception",
     "evalue": "(3,21): error CS1503: Argument 1: cannot convert from 'System.Collections.Generic.List<int>' to 'int'\r\n(3,1): error CS0670: Field cannot have void type",
     "output_type": "error",
     "traceback": [
      "(3,21): error CS1503: Argument 1: cannot convert from 'System.Collections.Generic.List<int>' to 'int'\r\n(3,1): error CS0670: Field cannot have void type"
     ]
    }
   ],
   "source": [
    "List<int> intList = new List<int>() {1,2,3};\n",
    "List<int> secondList = new List<int>() {4,5,6};\n",
    "var x = intList.Add(secondList);"
   ]
  },
  {
   "cell_type": "markdown",
   "metadata": {},
   "source": [
    "## Tuples"
   ]
  },
  {
   "cell_type": "code",
   "execution_count": 66,
   "metadata": {},
   "outputs": [
    {
     "data": {
      "text/html": [
       "<table><thead><tr><th>Item1</th><th>Item2</th></tr></thead><tbody><tr><td>1</td><td>2</td></tr></tbody></table>"
      ]
     },
     "execution_count": 66,
     "metadata": {},
     "output_type": "execute_result"
    }
   ],
   "source": [
    "var myTuple = (1,2);\n",
    "myTuple"
   ]
  },
  {
   "cell_type": "code",
   "execution_count": 67,
   "metadata": {},
   "outputs": [
    {
     "data": {
      "text/html": [
       "<table><thead><tr><th>Item1</th><th>Item2</th></tr></thead><tbody><tr><td>3</td><td>4</td></tr></tbody></table>"
      ]
     },
     "execution_count": 67,
     "metadata": {},
     "output_type": "execute_result"
    }
   ],
   "source": [
    "var otherTuple = (3,4);\n",
    "otherTuple"
   ]
  },
  {
   "cell_type": "code",
   "execution_count": 69,
   "metadata": {},
   "outputs": [
    {
     "data": {
      "text/html": [
       "<table><thead><tr><th>Item1</th><th>Item2</th></tr></thead><tbody><tr><td>3</td><td>4</td></tr></tbody></table>"
      ]
     },
     "execution_count": 69,
     "metadata": {},
     "output_type": "execute_result"
    }
   ],
   "source": [
    "var namedTuple = (first: 3, second: 4);\n",
    "namedTuple"
   ]
  },
  {
   "cell_type": "code",
   "execution_count": 70,
   "metadata": {},
   "outputs": [
    {
     "data": {
      "text/html": [
       "<table><thead><tr><th>Item1</th><th>Item2</th></tr></thead><tbody><tr><td>12.5</td><td>5</td></tr></tbody></table>"
      ]
     },
     "execution_count": 70,
     "metadata": {},
     "output_type": "execute_result"
    }
   ],
   "source": [
    "var sum = 12.5;\n",
    "var count = 5;\n",
    "var accumulation = (sum, count);\n",
    "accumulation"
   ]
  },
  {
   "cell_type": "code",
   "execution_count": 72,
   "metadata": {},
   "outputs": [
    {
     "data": {
      "text/html": [
       "12.5"
      ]
     },
     "execution_count": 72,
     "metadata": {},
     "output_type": "execute_result"
    }
   ],
   "source": [
    "accumulation.sum"
   ]
  },
  {
   "cell_type": "code",
   "execution_count": 81,
   "metadata": {},
   "outputs": [
    {
     "data": {
      "text/html": [
       "<table><thead><tr><th>Item1</th><th>Item2</th></tr></thead><tbody><tr><td>8</td><td>15</td></tr></tbody></table>"
      ]
     },
     "metadata": {},
     "output_type": "display_data"
    },
    {
     "data": {
      "text/plain": [
       "Sum is 8, Product is 15"
      ]
     },
     "metadata": {},
     "output_type": "display_data"
    }
   ],
   "source": [
    "public static (float Sum, double Product) SumAndProduct(float x, float y) {\n",
    "    return ((x + y), (x * y));\n",
    "}\n",
    "var myTupleResult = SumAndProduct(3,5);\n",
    "display(myTupleResult);\n",
    "display($\"Sum is {myTupleResult.Sum}, Product is {myTupleResult.Product}\");"
   ]
  },
  {
   "cell_type": "code",
   "execution_count": 82,
   "metadata": {},
   "outputs": [],
   "source": [
    "// multiple assignment?"
   ]
  },
  {
   "cell_type": "markdown",
   "metadata": {},
   "source": [
    "## Dictionaries"
   ]
  },
  {
   "cell_type": "code",
   "execution_count": 90,
   "metadata": {},
   "outputs": [
    {
     "data": {
      "text/html": [
       "95"
      ]
     },
     "metadata": {},
     "output_type": "display_data"
    }
   ],
   "source": [
    "// is the C# Dictionary (a hashtable) similar to the Python dictionary?\n",
    "Dictionary<string, int> grades = new Dictionary<string,int>();\n",
    "grades.Add(\"Joel\", 80);\n",
    "grades.Add(\"Tim\", 95);\n",
    "display(grades[\"Tim\"]);"
   ]
  },
  {
   "cell_type": "markdown",
   "metadata": {},
   "source": [
    "Use ContainsKey to check for existence of a key"
   ]
  },
  {
   "cell_type": "code",
   "execution_count": 92,
   "metadata": {},
   "outputs": [
    {
     "data": {
      "text/html": [
       "True"
      ]
     },
     "metadata": {},
     "output_type": "display_data"
    }
   ],
   "source": [
    "var joelHasGrade = grades.ContainsKey(\"Joel\");\n",
    "display(joelHasGrade);"
   ]
  },
  {
   "cell_type": "markdown",
   "metadata": {},
   "source": [
    "When a program often has to try keys that turn out not to be in the dictionary, **TryGetValue** can be a more efficient way to retrieve values."
   ]
  },
  {
   "cell_type": "code",
   "execution_count": 95,
   "metadata": {},
   "outputs": [
    {
     "name": "stdout",
     "output_type": "stream",
     "text": [
      "For key Tim, grade is 95\r\n"
     ]
    }
   ],
   "source": [
    "int grade = 0;\n",
    "string name = \"Tim\";\n",
    "if (grades.TryGetValue(name, out grade)) {\n",
    "    Console.WriteLine($\"For key {name}, grade is {grade}\");\n",
    "}\n",
    "else {\n",
    "    Console.WriteLine($\"{name} not found\");\n",
    "}"
   ]
  },
  {
   "cell_type": "markdown",
   "metadata": {},
   "source": [
    "## Counter\n",
    "In Python, a Counter acts like the C# .Count() function. It also has a most_common method that we can replicate using LINQ (can make this an extension method). \n",
    "\n",
    "From https://stackoverflow.com/questions/6730974/select-most-frequent-value-using-linq :"
   ]
  },
  {
   "cell_type": "code",
   "execution_count": 100,
   "metadata": {},
   "outputs": [
    {
     "data": {
      "text/html": [
       "<table><thead><tr><th><i>index</i></th><th>value</th></tr></thead><tbody><tr><td>0</td><td>6</td></tr><tr><td>1</td><td>2</td></tr><tr><td>2</td><td>3</td></tr><tr><td>3</td><td>1</td></tr><tr><td>4</td><td>4</td></tr></tbody></table>"
      ]
     },
     "execution_count": 100,
     "metadata": {},
     "output_type": "execute_result"
    }
   ],
   "source": [
    "int[] nums = new[] { 1, 1, 1, 2, 2, 2, 2, 3, 3, 3, 3, 4, 4, 5, 5, 6,6,6,6,6,6, 6, 7 };\n",
    "\n",
    " IEnumerable<int> top5 = nums\n",
    "            .GroupBy(i => i)\n",
    "            .OrderByDescending(g => g.Count())\n",
    "            .Take(5)\n",
    "            .Select(g => g.Key);\n",
    "top5"
   ]
  },
  {
   "cell_type": "markdown",
   "metadata": {},
   "source": [
    "## Sets\n",
    "Collection that only allows distinct elements. Use HashSet<T>.\n",
    "HashSet<T>.Add(T item) returns a bool. True if it was added, false if it already contains the element."
   ]
  },
  {
   "cell_type": "code",
   "execution_count": 101,
   "metadata": {},
   "outputs": [
    {
     "data": {
      "text/html": [
       "<table><thead><tr><th><i>index</i></th><th>value</th></tr></thead><tbody><tr><td>0</td><td>1</td></tr><tr><td>1</td><td>2</td></tr></tbody></table>"
      ]
     },
     "execution_count": 101,
     "metadata": {},
     "output_type": "execute_result"
    }
   ],
   "source": [
    "HashSet<int> mySet = new HashSet<int>();\n",
    "mySet.Add(1);\n",
    "mySet.Add(2);\n",
    "mySet"
   ]
  },
  {
   "cell_type": "code",
   "execution_count": 102,
   "metadata": {},
   "outputs": [
    {
     "data": {
      "text/html": [
       "<table><thead><tr><th><i>index</i></th><th>value</th></tr></thead><tbody><tr><td>0</td><td>1</td></tr><tr><td>1</td><td>2</td></tr></tbody></table>"
      ]
     },
     "metadata": {},
     "output_type": "display_data"
    },
    {
     "data": {
      "text/html": [
       "False"
      ]
     },
     "metadata": {},
     "output_type": "display_data"
    }
   ],
   "source": [
    "var added = mySet.Add(2);\n",
    "display(mySet);\n",
    "display(added);"
   ]
  },
  {
   "cell_type": "code",
   "execution_count": 103,
   "metadata": {},
   "outputs": [
    {
     "data": {
      "text/html": [
       "True"
      ]
     },
     "execution_count": 103,
     "metadata": {},
     "output_type": "execute_result"
    }
   ],
   "source": [
    "var contains = mySet.Contains(2);\n",
    "contains"
   ]
  },
  {
   "cell_type": "markdown",
   "metadata": {},
   "source": [
    "## Control Flow\n",
    "Conditional stuff that we all know"
   ]
  },
  {
   "cell_type": "markdown",
   "metadata": {},
   "source": [
    "## Truthiness\n",
    "Booleans.\n",
    "Python has an \"all\" function, which takes an iterable, and returns true if every element is truthy, and an \"any\" function, which returns true if at least one element is truthy. Can probably use LINQ for this."
   ]
  },
  {
   "cell_type": "markdown",
   "metadata": {},
   "source": [
    "## Sorting\n",
    "Can use LINQ's OrderBy and OrderByDescending"
   ]
  },
  {
   "cell_type": "code",
   "execution_count": 105,
   "metadata": {},
   "outputs": [
    {
     "data": {
      "text/html": [
       "<table><thead><tr><th><i>index</i></th><th>value</th></tr></thead><tbody><tr><td>0</td><td>4</td></tr><tr><td>1</td><td>3</td></tr><tr><td>2</td><td>7</td></tr><tr><td>3</td><td>4</td></tr><tr><td>4</td><td>14</td></tr><tr><td>5</td><td>6</td></tr></tbody></table>"
      ]
     },
     "execution_count": 105,
     "metadata": {},
     "output_type": "execute_result"
    }
   ],
   "source": [
    "List<int> x = new List<int>() {4,3,7,4,14,6};\n",
    "x"
   ]
  },
  {
   "cell_type": "code",
   "execution_count": 107,
   "metadata": {},
   "outputs": [
    {
     "data": {
      "text/html": [
       "<table><thead><tr><th><i>index</i></th><th>value</th></tr></thead><tbody><tr><td>0</td><td>3</td></tr><tr><td>1</td><td>4</td></tr><tr><td>2</td><td>4</td></tr><tr><td>3</td><td>6</td></tr><tr><td>4</td><td>7</td></tr><tr><td>5</td><td>14</td></tr></tbody></table>"
      ]
     },
     "execution_count": 107,
     "metadata": {},
     "output_type": "execute_result"
    }
   ],
   "source": [
    "var orderedX = x.OrderBy(i => i);\n",
    "orderedX"
   ]
  },
  {
   "cell_type": "code",
   "execution_count": 108,
   "metadata": {},
   "outputs": [
    {
     "data": {
      "text/html": [
       "<table><thead><tr><th><i>index</i></th><th>value</th></tr></thead><tbody><tr><td>0</td><td>14</td></tr><tr><td>1</td><td>7</td></tr><tr><td>2</td><td>6</td></tr><tr><td>3</td><td>4</td></tr><tr><td>4</td><td>4</td></tr><tr><td>5</td><td>3</td></tr></tbody></table>"
      ]
     },
     "execution_count": 108,
     "metadata": {},
     "output_type": "execute_result"
    }
   ],
   "source": [
    "var reverseX = x.OrderByDescending(i => i);\n",
    "reverseX"
   ]
  },
  {
   "cell_type": "code",
   "execution_count": 113,
   "metadata": {},
   "outputs": [
    {
     "data": {
      "text/html": [
       "<table><thead><tr><th><i>index</i></th><th>value</th></tr></thead><tbody><tr><td>0</td><td>-6</td></tr><tr><td>1</td><td>-2</td></tr><tr><td>2</td><td>1</td></tr><tr><td>3</td><td>5</td></tr><tr><td>4</td><td>29</td></tr></tbody></table>"
      ]
     },
     "execution_count": 113,
     "metadata": {},
     "output_type": "execute_result"
    }
   ],
   "source": [
    "List<int> y = new List<int>() {-2,1,5,-6,29};\n",
    "y = y.OrderBy(i => i).ToList();\n",
    "y"
   ]
  },
  {
   "cell_type": "code",
   "execution_count": 115,
   "metadata": {},
   "outputs": [
    {
     "data": {
      "text/html": [
       "<table><thead><tr><th><i>index</i></th><th>value</th></tr></thead><tbody><tr><td>0</td><td>1</td></tr><tr><td>1</td><td>-2</td></tr><tr><td>2</td><td>5</td></tr><tr><td>3</td><td>-6</td></tr><tr><td>4</td><td>29</td></tr></tbody></table>"
      ]
     },
     "execution_count": 115,
     "metadata": {},
     "output_type": "execute_result"
    }
   ],
   "source": [
    "// sort by absolute value\n",
    "var absoluteY = y.OrderBy(i => Math.Abs(i)).ToList();\n",
    "absoluteY"
   ]
  },
  {
   "cell_type": "markdown",
   "metadata": {},
   "source": [
    "## List Comprehensions\n",
    "Transform lists into other lists, dictionaries, sets. Probably can use LINQ here too."
   ]
  },
  {
   "cell_type": "code",
   "execution_count": 130,
   "metadata": {},
   "outputs": [
    {
     "data": {
      "text/html": [
       "<table><thead><tr><th><i>index</i></th><th>value</th></tr></thead><tbody><tr><td>0</td><td>0</td></tr><tr><td>1</td><td>2</td></tr><tr><td>2</td><td>4</td></tr></tbody></table>"
      ]
     },
     "execution_count": 130,
     "metadata": {},
     "output_type": "execute_result"
    }
   ],
   "source": [
    "// equivalent of even_numbers = [x for x in range(5) if x % 2 == 0]\n",
    "var zeroThroughFifty = Enumerable.Range(0, 50);\n",
    "var evenNumbers = zeroThroughFifty.Take(5).Where(i => i % 2 == 0).ToList();\n",
    "evenNumbers"
   ]
  },
  {
   "cell_type": "markdown",
   "metadata": {},
   "source": [
    "LINQ Select transforms:"
   ]
  },
  {
   "cell_type": "code",
   "execution_count": 134,
   "metadata": {},
   "outputs": [
    {
     "data": {
      "text/html": [
       "<table><thead><tr><th><i>index</i></th><th>value</th></tr></thead><tbody><tr><td>0</td><td>1</td></tr></tbody></table>"
      ]
     },
     "execution_count": 134,
     "metadata": {},
     "output_type": "execute_result"
    }
   ],
   "source": [
    "var minusOneToOne = Enumerable.Range(-1,1);\n",
    "HashSet<int> one = minusOneToOne.Select(i => i * i).ToHashSet();\n",
    "one"
   ]
  },
  {
   "cell_type": "code",
   "execution_count": 137,
   "metadata": {},
   "outputs": [
    {
     "data": {
      "text/html": [
       "<table><thead><tr><th><i>index</i></th><th>value</th></tr></thead><tbody><tr><td>0</td><td>0</td></tr><tr><td>1</td><td>0</td></tr><tr><td>2</td><td>0</td></tr></tbody></table>"
      ]
     },
     "execution_count": 137,
     "metadata": {},
     "output_type": "execute_result"
    }
   ],
   "source": [
    "// equivalent to: zeros = [0 for _ in even_numbers]      # has the same length as even_numbers\n",
    "var zeroes = Enumerable.Repeat(0, evenNumbers.Count());\n",
    "zeroes"
   ]
  },
  {
   "cell_type": "markdown",
   "metadata": {},
   "source": [
    "## Automated Testing and assert\n",
    "Just use .NET Test Projects for this"
   ]
  },
  {
   "cell_type": "markdown",
   "metadata": {},
   "source": [
    "## Object-Oriented Programming\n",
    "Making classes"
   ]
  },
  {
   "cell_type": "markdown",
   "metadata": {},
   "source": [
    "## Iterables and Generators\n",
    "In C#, IEnumerable<Int> is lazy, so they don't actually allocate memory, it just iterates over the values. So Enumerable.Range is nice. It also uses **yield return**."
   ]
  },
  {
   "cell_type": "code",
   "execution_count": 150,
   "metadata": {},
   "outputs": [
    {
     "name": "stdout",
     "output_type": "stream",
     "text": [
      "index 0: value 1\n",
      "index 1: value 2\n",
      "index 2: value 3\n",
      "index 3: value 4\n",
      "index 4: value 5\n",
      "index 5: value 6\n",
      "index 6: value 7\n",
      "index 7: value 8\n",
      "index 8: value 9\n",
      "index 9: value 10\n"
     ]
    }
   ],
   "source": [
    "// can use Tuples to get to the index in a foreach\n",
    "var hundredList = Enumerable.Range(1,100);\n",
    "var firstTen = hundredList.Take(10);\n",
    "foreach (var (item, index) in firstTen.Select((value, i) => (value, i))) {\n",
    "    Console.WriteLine($\"index {index}: value {item}\");\n",
    "}"
   ]
  },
  {
   "cell_type": "markdown",
   "metadata": {},
   "source": [
    "## Randomness"
   ]
  },
  {
   "cell_type": "code",
   "execution_count": 161,
   "metadata": {},
   "outputs": [
    {
     "data": {
      "text/html": [
       "824410589"
      ]
     },
     "execution_count": 161,
     "metadata": {},
     "output_type": "execute_result"
    }
   ],
   "source": [
    "var rand = new System.Random();\n",
    "var randNum = rand.Next();\n",
    "randNum"
   ]
  },
  {
   "cell_type": "markdown",
   "metadata": {},
   "source": [
    "## Regular Expressions"
   ]
  },
  {
   "cell_type": "markdown",
   "metadata": {},
   "source": [
    "## zip and Argument Unpacking"
   ]
  },
  {
   "cell_type": "markdown",
   "metadata": {},
   "source": [
    "## args and kwargs\n",
    "I only skimmed this part, but I'm sure this functionality can be replicated in C#"
   ]
  },
  {
   "cell_type": "markdown",
   "metadata": {},
   "source": [
    "## Type Annotations\n",
    "We're using C# so we don't need this part. It does have good info on how Python 3.6 now supports type annotations."
   ]
  }
 ],
 "metadata": {
  "kernelspec": {
   "display_name": ".NET (C#)",
   "language": "C#",
   "name": ".net-csharp"
  },
  "language_info": {
   "file_extension": ".cs",
   "mimetype": "text/x-csharp",
   "name": "C#",
   "pygments_lexer": "csharp",
   "version": "8.0"
  }
 },
 "nbformat": 4,
 "nbformat_minor": 4
}
