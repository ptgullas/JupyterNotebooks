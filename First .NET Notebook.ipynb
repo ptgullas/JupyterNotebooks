{
 "cells": [
  {
   "cell_type": "markdown",
   "metadata": {},
   "source": [
    "# Testing out .NET in Jupyter!"
   ]
  },
  {
   "cell_type": "markdown",
   "metadata": {},
   "source": [
    "Using the demos found here: https://devblogs.microsoft.com/dotnet/net-core-with-juypter-notebooks-is-here-preview-1/"
   ]
  },
  {
   "cell_type": "code",
   "execution_count": 1,
   "metadata": {},
   "outputs": [
    {
     "data": {
      "text/html": [
       "<table><thead><tr><th>Title</th><th>Name</th></tr></thead><tbody><tr><td>Captain</td><td>Marvel</td></tr></tbody></table>"
      ]
     },
     "metadata": {},
     "output_type": "display_data"
    }
   ],
   "source": [
    "class Person {\n",
    "    public string Title {get; set;}\n",
    "    public string Name {get; set;}\n",
    "}\n",
    "display (new Person {Title = \"Captain\", Name = \"Marvel\"});"
   ]
  },
  {
   "cell_type": "code",
   "execution_count": 3,
   "metadata": {},
   "outputs": [
    {
     "data": {
      "text/html": [
       "<table><thead><tr><th><i>index</i></th><th>Title</th><th>Name</th></tr></thead><tbody><tr><td>0</td><td>Captain</td><td>Marvel</td></tr><tr><td>1</td><td>General</td><td>Okoye</td></tr><tr><td>2</td><td>Team Lead</td><td>Romanova</td></tr><tr><td>3</td><td>Lead Engineer</td><td>Washington</td></tr></tbody></table>"
      ]
     },
     "metadata": {},
     "output_type": "display_data"
    }
   ],
   "source": [
    "var groupOfHeroes = new [] {\n",
    "    new Person {Title = \"Captain\", Name = \"Marvel\"},\n",
    "    new Person {Title = \"General\", Name = \"Okoye\"},\n",
    "    new Person {Title = \"Team Lead\", Name = \"Romanova\"},\n",
    "    new Person {Title = \"Lead Engineer\", Name = \"Washington\"}\n",
    "};\n",
    "display(groupOfHeroes);"
   ]
  },
  {
   "cell_type": "markdown",
   "metadata": {},
   "source": [
    "# Play around with DataFrames"
   ]
  },
  {
   "cell_type": "markdown",
   "metadata": {},
   "source": [
    "samples from https://devblogs.microsoft.com/dotnet/an-introduction-to-dataframe/"
   ]
  },
  {
   "cell_type": "code",
   "execution_count": 4,
   "metadata": {},
   "outputs": [
    {
     "data": {
      "text/plain": [
       "Installed package Microsoft.Data.Analysis version 0.3.0"
      ]
     },
     "metadata": {},
     "output_type": "display_data"
    }
   ],
   "source": [
    "#r \"nuget:Microsoft.Data.Analysis\""
   ]
  },
  {
   "cell_type": "code",
   "execution_count": 6,
   "metadata": {},
   "outputs": [],
   "source": [
    "using Microsoft.Data.Analysis;"
   ]
  },
  {
   "cell_type": "code",
   "execution_count": 12,
   "metadata": {},
   "outputs": [],
   "source": [
    "PrimitiveDataFrameColumn<DateTime> dateTimes = new PrimitiveDataFrameColumn<DateTime>(\"DateTimes\"); // Default length is 0.\n",
    "PrimitiveDataFrameColumn<int> ints = new PrimitiveDataFrameColumn<int>(\"Ints\", 3); // Makes a column of length 3. Filled with nulls initially\n",
    "StringDataFrameColumn strings = new StringDataFrameColumn(\"Strings\", 3); // Makes a column of length 3. Filled with nulls initially"
   ]
  },
  {
   "cell_type": "code",
   "execution_count": 8,
   "metadata": {},
   "outputs": [
    {
     "data": {
      "text/html": [
       "<table><thead><tr><th><i>index</i></th><th>value</th></tr></thead><tbody><tr><td>0</td><td>&lt;null&gt;</td></tr><tr><td>1</td><td>&lt;null&gt;</td></tr><tr><td>2</td><td>&lt;null&gt;</td></tr></tbody></table>"
      ]
     },
     "metadata": {},
     "output_type": "display_data"
    }
   ],
   "source": [
    "display(ints);"
   ]
  },
  {
   "cell_type": "code",
   "execution_count": 10,
   "metadata": {},
   "outputs": [
    {
     "data": {
      "text/html": [
       "<table><thead><tr><th><i>index</i></th><th>value</th></tr></thead><tbody><tr><td>0</td><td>&lt;null&gt;</td></tr><tr><td>1</td><td>&lt;null&gt;</td></tr><tr><td>2</td><td>&lt;null&gt;</td></tr></tbody></table>"
      ]
     },
     "execution_count": 10,
     "metadata": {},
     "output_type": "execute_result"
    }
   ],
   "source": [
    "ints"
   ]
  },
  {
   "cell_type": "code",
   "execution_count": 15,
   "metadata": {},
   "outputs": [],
   "source": [
    "dateTimes.Append(DateTime.Parse(\"2019/01/01\"));\n",
    "dateTimes.Append(DateTime.Parse(\"2019/01/02\"));\n",
    "dateTimes.Append(DateTime.Parse(\"2019/01/03\"));"
   ]
  },
  {
   "cell_type": "code",
   "execution_count": 16,
   "metadata": {},
   "outputs": [
    {
     "data": {
      "text/html": [
       "<table><thead><tr><th><i>index</i></th><th>Date</th><th>Day</th><th>DayOfWeek</th><th>DayOfYear</th><th>Hour</th><th>Kind</th><th>Millisecond</th><th>Minute</th><th>Month</th><th>Second</th><th>Ticks</th><th>TimeOfDay</th><th>Year</th></tr></thead><tbody><tr><td>0</td><td>2019-01-01 00:00:00Z</td><td>1</td><td>Tuesday</td><td>1</td><td>0</td><td>Unspecified</td><td>0</td><td>0</td><td>1</td><td>0</td><td>636818976000000000</td><td>00:00:00</td><td>2019</td></tr><tr><td>1</td><td>2019-01-02 00:00:00Z</td><td>2</td><td>Wednesday</td><td>2</td><td>0</td><td>Unspecified</td><td>0</td><td>0</td><td>1</td><td>0</td><td>636819840000000000</td><td>00:00:00</td><td>2019</td></tr><tr><td>2</td><td>2019-01-03 00:00:00Z</td><td>3</td><td>Thursday</td><td>3</td><td>0</td><td>Unspecified</td><td>0</td><td>0</td><td>1</td><td>0</td><td>636820704000000000</td><td>00:00:00</td><td>2019</td></tr></tbody></table>"
      ]
     },
     "execution_count": 16,
     "metadata": {},
     "output_type": "execute_result"
    }
   ],
   "source": [
    "dateTimes"
   ]
  },
  {
   "cell_type": "code",
   "execution_count": 17,
   "metadata": {},
   "outputs": [],
   "source": [
    "DataFrame df = new DataFrame(dateTimes, ints, strings); // This will throw if the columns are of different lengths"
   ]
  },
  {
   "cell_type": "code",
   "execution_count": 18,
   "metadata": {},
   "outputs": [
    {
     "data": {
      "text/html": [
       "<table><thead><tr><th>Columns</th><th>Rows</th></tr></thead><tbody><tr><td>[ [ 2019-01-01 00:00:00Z, 2019-01-02 00:00:00Z, 2019-01-03 00:00:00Z ], [ &lt;null&gt;, &lt;null&gt;, &lt;null&gt; ], [ &lt;null&gt;, &lt;null&gt;, &lt;null&gt; ] ]</td><td>[ [ 2019-01-01 00:00:00Z, &lt;null&gt;, &lt;null&gt; ], [ 2019-01-02 00:00:00Z, &lt;null&gt;, &lt;null&gt; ], [ 2019-01-03 00:00:00Z, &lt;null&gt;, &lt;null&gt; ] ]</td></tr></tbody></table>"
      ]
     },
     "execution_count": 18,
     "metadata": {},
     "output_type": "execute_result"
    }
   ],
   "source": [
    "df"
   ]
  },
  {
   "cell_type": "code",
   "execution_count": 20,
   "metadata": {},
   "outputs": [],
   "source": [
    "using Microsoft.AspNetCore.Html;\n",
    "Formatter<DataFrame>.Register((df, writer) =>\n",
    "{\n",
    "    var headers = new List<IHtmlContent>();\n",
    "    headers.Add(th(i(\"index\")));\n",
    "    headers.AddRange(df.Columns.Select(c => (IHtmlContent) th(c.Name)));\n",
    "    var rows = new List<List<IHtmlContent>>();\n",
    "    var take = 20;\n",
    "    for (var i = 0; i < Math.Min(take, df.Rows.Count); i++)\n",
    "    {\n",
    "        var cells = new List<IHtmlContent>();\n",
    "        cells.Add(td(i));\n",
    "        foreach (var obj in df.Rows[i])\n",
    "        {\n",
    "            cells.Add(td(obj));\n",
    "        }\n",
    "        rows.Add(cells);\n",
    "    }\n",
    "\n",
    "    var t = table(\n",
    "        thead(\n",
    "            headers),\n",
    "        tbody(\n",
    "            rows.Select(\n",
    "                r => tr(r))));\n",
    "\n",
    "    writer.Write(t);\n",
    "}, \"text/html\");"
   ]
  },
  {
   "cell_type": "code",
   "execution_count": 21,
   "metadata": {},
   "outputs": [
    {
     "data": {
      "text/html": [
       "<table><thead><th><i>index</i></th><th>DateTimes</th><th>Ints</th><th>Strings</th></thead><tbody><tr><td>0</td><td>2019-01-01 00:00:00Z</td><td>&lt;null&gt;</td><td>&lt;null&gt;</td></tr><tr><td>1</td><td>2019-01-02 00:00:00Z</td><td>&lt;null&gt;</td><td>&lt;null&gt;</td></tr><tr><td>2</td><td>2019-01-03 00:00:00Z</td><td>&lt;null&gt;</td><td>&lt;null&gt;</td></tr></tbody></table>"
      ]
     },
     "execution_count": 21,
     "metadata": {},
     "output_type": "execute_result"
    }
   ],
   "source": [
    "df"
   ]
  },
  {
   "cell_type": "code",
   "execution_count": 22,
   "metadata": {},
   "outputs": [
    {
     "data": {
      "text/html": [
       "<table><thead><th><i>index</i></th><th>DateTimes</th><th>Ints</th><th>Strings</th></thead><tbody><tr><td>0</td><td>2019-01-01 00:00:00Z</td><td>10</td><td>&lt;null&gt;</td></tr><tr><td>1</td><td>2019-01-02 00:00:00Z</td><td>&lt;null&gt;</td><td>&lt;null&gt;</td></tr><tr><td>2</td><td>2019-01-03 00:00:00Z</td><td>&lt;null&gt;</td><td>&lt;null&gt;</td></tr></tbody></table>"
      ]
     },
     "execution_count": 22,
     "metadata": {},
     "output_type": "execute_result"
    }
   ],
   "source": [
    "// change a value directly via df\n",
    "df[0, 1] = 10; // 0 is the rowIndex, and 1 is the columnIndex. This sets the 0th value in the Ints columns to 10\n",
    "df"
   ]
  },
  {
   "cell_type": "code",
   "execution_count": 24,
   "metadata": {},
   "outputs": [
    {
     "data": {
      "text/html": [
       "<table><thead><th><i>index</i></th><th>DateTimes</th><th>Ints</th><th>Strings</th></thead><tbody><tr><td>0</td><td>2019-01-01 00:00:00Z</td><td>10</td><td>&lt;null&gt;</td></tr><tr><td>1</td><td>2019-01-02 00:00:00Z</td><td>100</td><td>Foo!</td></tr><tr><td>2</td><td>2019-01-03 00:00:00Z</td><td>&lt;null&gt;</td><td>&lt;null&gt;</td></tr></tbody></table>"
      ]
     },
     "execution_count": 24,
     "metadata": {},
     "output_type": "execute_result"
    }
   ],
   "source": [
    "// Modify ints and strings columns by indexing\n",
    "ints[1] = 100;\n",
    "strings[1] = \"Foo!\";\n",
    "df"
   ]
  },
  {
   "cell_type": "code",
   "execution_count": 26,
   "metadata": {},
   "outputs": [
    {
     "data": {
      "text/html": [
       "<table><thead><th><i>index</i></th><th>Info</th><th>DateTimes</th><th>Ints</th><th>Strings</th></thead><tbody><tr><td>0</td><td>DataType</td><td>System.DateTime</td><td>System.Int32</td><td>System.String</td></tr><tr><td>1</td><td>Length (excluding null values)</td><td>3</td><td>2</td><td>3</td></tr></tbody></table>"
      ]
     },
     "execution_count": 26,
     "metadata": {},
     "output_type": "execute_result"
    }
   ],
   "source": [
    "df.Info()"
   ]
  },
  {
   "cell_type": "code",
   "execution_count": 38,
   "metadata": {},
   "outputs": [],
   "source": [
    "// Add 5 to Ints through the DataFrame\n",
    "df.Columns[\"Ints\"].Add(5, inPlace: true);"
   ]
  },
  {
   "cell_type": "code",
   "execution_count": 39,
   "metadata": {},
   "outputs": [
    {
     "data": {
      "text/html": [
       "<table><thead><tr><th><i>index</i></th><th>value</th></tr></thead><tbody><tr><td>0</td><td>15</td></tr><tr><td>1</td><td>105</td></tr><tr><td>2</td><td>&lt;null&gt;</td></tr></tbody></table>"
      ]
     },
     "execution_count": 39,
     "metadata": {},
     "output_type": "execute_result"
    }
   ],
   "source": [
    "df.Columns[\"Ints\"]"
   ]
  },
  {
   "cell_type": "code",
   "execution_count": 40,
   "metadata": {},
   "outputs": [],
   "source": [
    "df.Columns[\"Ints\"] = (ints/5) * 100;"
   ]
  },
  {
   "cell_type": "code",
   "execution_count": 41,
   "metadata": {},
   "outputs": [
    {
     "data": {
      "text/html": [
       "<table><thead><tr><th><i>index</i></th><th>value</th></tr></thead><tbody><tr><td>0</td><td>300</td></tr><tr><td>1</td><td>2100</td></tr><tr><td>2</td><td>&lt;null&gt;</td></tr></tbody></table>"
      ]
     },
     "execution_count": 41,
     "metadata": {},
     "output_type": "execute_result"
    }
   ],
   "source": [
    "df.Columns[\"Ints\"]"
   ]
  },
  {
   "cell_type": "code",
   "execution_count": 10,
   "metadata": {},
   "outputs": [],
   "source": [
    "DateTime now = new DateTime(2020, 6, 17, 10, 12, 0);"
   ]
  },
  {
   "cell_type": "code",
   "execution_count": 11,
   "metadata": {},
   "outputs": [
    {
     "data": {
      "text/html": [
       "2020-06-17 10:12:00Z"
      ]
     },
     "execution_count": 11,
     "metadata": {},
     "output_type": "execute_result"
    }
   ],
   "source": [
    "now"
   ]
  },
  {
   "cell_type": "code",
   "execution_count": 12,
   "metadata": {},
   "outputs": [
    {
     "data": {
      "text/html": [
       "Unspecified"
      ]
     },
     "execution_count": 12,
     "metadata": {},
     "output_type": "execute_result"
    }
   ],
   "source": [
    "now.Kind"
   ]
  },
  {
   "cell_type": "code",
   "execution_count": null,
   "metadata": {},
   "outputs": [],
   "source": []
  }
 ],
 "metadata": {
  "kernelspec": {
   "display_name": ".NET (C#)",
   "language": "C#",
   "name": ".net-csharp"
  },
  "language_info": {
   "file_extension": ".cs",
   "mimetype": "text/x-csharp",
   "name": "C#",
   "pygments_lexer": "csharp",
   "version": "8.0"
  }
 },
 "nbformat": 4,
 "nbformat_minor": 4
}
